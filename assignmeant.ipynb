{
 "cells": [
  {
   "cell_type": "markdown",
   "id": "1e4659ff-bfec-46f2-afe0-c00e687d189a",
   "metadata": {},
   "source": [
    "# 기계학습및실습 2024년 2학기 중간과제\n",
    "\n",
    "## 타이타닉 데이터셋 분석\n",
    "\n",
    "인공지능융합학부 최민규(2020100399)"
   ]
  },
  {
   "cell_type": "code",
   "execution_count": null,
   "id": "12bea020-ffd9-4a43-a4d1-c55002c18606",
   "metadata": {},
   "outputs": [],
   "source": []
  }
 ],
 "metadata": {
  "kernelspec": {
   "display_name": "Python 3 (ipykernel)",
   "language": "python",
   "name": "python3"
  },
  "language_info": {
   "codemirror_mode": {
    "name": "ipython",
    "version": 3
   },
   "file_extension": ".py",
   "mimetype": "text/x-python",
   "name": "python",
   "nbconvert_exporter": "python",
   "pygments_lexer": "ipython3",
   "version": "3.12.2"
  }
 },
 "nbformat": 4,
 "nbformat_minor": 5
}
