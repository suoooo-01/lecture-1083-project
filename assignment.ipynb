{
 "cells": [
  {
   "cell_type": "markdown",
   "id": "1e4659ff-bfec-46f2-afe0-c00e687d189a",
   "metadata": {},
   "source": [
    "# 기계학습및실습 2024년 2학기 중간과제\n",
    "\n",
    "## 타이타닉 데이터셋 분석\n",
    "\n",
    "인공지능융합학부 최민규(2020100399)"
   ]
  },
  {
   "cell_type": "markdown",
   "id": "f056242e-06f0-441b-8341-bf1fb32e6533",
   "metadata": {},
   "source": [
    "## 데이터 불러오기"
   ]
  },
  {
   "cell_type": "code",
   "execution_count": 1,
   "id": "353f5e52-3036-4aea-be49-89f8817adb1f",
   "metadata": {},
   "outputs": [],
   "source": [
    "import pandas as pd\n",
    "import matplotlib.pyplot as plt\n",
    "%matplotlib inline\n",
    "import numpy as np\n",
    "import matplotlib as mpl\n",
    "import seaborn as sns\n",
    "\n",
    "from sklearn.model_selection import train_test_split\n",
    "from sklearn.ensemble import RandomForestClassifier\n",
    "from sklearn.metrics import accuracy_score"
   ]
  },
  {
   "cell_type": "code",
   "execution_count": 13,
   "id": "68915b56-1fc1-4ecb-b1a3-d19a8c8a413c",
   "metadata": {},
   "outputs": [
    {
     "data": {
      "text/html": [
       "<div>\n",
       "<style scoped>\n",
       "    .dataframe tbody tr th:only-of-type {\n",
       "        vertical-align: middle;\n",
       "    }\n",
       "\n",
       "    .dataframe tbody tr th {\n",
       "        vertical-align: top;\n",
       "    }\n",
       "\n",
       "    .dataframe thead th {\n",
       "        text-align: right;\n",
       "    }\n",
       "</style>\n",
       "<table border=\"1\" class=\"dataframe\">\n",
       "  <thead>\n",
       "    <tr style=\"text-align: right;\">\n",
       "      <th></th>\n",
       "      <th>Survived</th>\n",
       "      <th>Pclass</th>\n",
       "      <th>Name</th>\n",
       "      <th>Sex</th>\n",
       "      <th>Age</th>\n",
       "      <th>SibSp</th>\n",
       "      <th>Parch</th>\n",
       "      <th>Ticket</th>\n",
       "      <th>Fare</th>\n",
       "      <th>Cabin</th>\n",
       "      <th>Embarked</th>\n",
       "    </tr>\n",
       "    <tr>\n",
       "      <th>PassengerId</th>\n",
       "      <th></th>\n",
       "      <th></th>\n",
       "      <th></th>\n",
       "      <th></th>\n",
       "      <th></th>\n",
       "      <th></th>\n",
       "      <th></th>\n",
       "      <th></th>\n",
       "      <th></th>\n",
       "      <th></th>\n",
       "      <th></th>\n",
       "    </tr>\n",
       "  </thead>\n",
       "  <tbody>\n",
       "    <tr>\n",
       "      <th>1</th>\n",
       "      <td>0</td>\n",
       "      <td>3</td>\n",
       "      <td>Braund, Mr. Owen Harris</td>\n",
       "      <td>male</td>\n",
       "      <td>22.0</td>\n",
       "      <td>1</td>\n",
       "      <td>0</td>\n",
       "      <td>A/5 21171</td>\n",
       "      <td>7.2500</td>\n",
       "      <td>NaN</td>\n",
       "      <td>S</td>\n",
       "    </tr>\n",
       "    <tr>\n",
       "      <th>2</th>\n",
       "      <td>1</td>\n",
       "      <td>1</td>\n",
       "      <td>Cumings, Mrs. John Bradley (Florence Briggs Th...</td>\n",
       "      <td>female</td>\n",
       "      <td>38.0</td>\n",
       "      <td>1</td>\n",
       "      <td>0</td>\n",
       "      <td>PC 17599</td>\n",
       "      <td>71.2833</td>\n",
       "      <td>C85</td>\n",
       "      <td>C</td>\n",
       "    </tr>\n",
       "    <tr>\n",
       "      <th>3</th>\n",
       "      <td>1</td>\n",
       "      <td>3</td>\n",
       "      <td>Heikkinen, Miss. Laina</td>\n",
       "      <td>female</td>\n",
       "      <td>26.0</td>\n",
       "      <td>0</td>\n",
       "      <td>0</td>\n",
       "      <td>STON/O2. 3101282</td>\n",
       "      <td>7.9250</td>\n",
       "      <td>NaN</td>\n",
       "      <td>S</td>\n",
       "    </tr>\n",
       "    <tr>\n",
       "      <th>4</th>\n",
       "      <td>1</td>\n",
       "      <td>1</td>\n",
       "      <td>Futrelle, Mrs. Jacques Heath (Lily May Peel)</td>\n",
       "      <td>female</td>\n",
       "      <td>35.0</td>\n",
       "      <td>1</td>\n",
       "      <td>0</td>\n",
       "      <td>113803</td>\n",
       "      <td>53.1000</td>\n",
       "      <td>C123</td>\n",
       "      <td>S</td>\n",
       "    </tr>\n",
       "    <tr>\n",
       "      <th>5</th>\n",
       "      <td>0</td>\n",
       "      <td>3</td>\n",
       "      <td>Allen, Mr. William Henry</td>\n",
       "      <td>male</td>\n",
       "      <td>35.0</td>\n",
       "      <td>0</td>\n",
       "      <td>0</td>\n",
       "      <td>373450</td>\n",
       "      <td>8.0500</td>\n",
       "      <td>NaN</td>\n",
       "      <td>S</td>\n",
       "    </tr>\n",
       "  </tbody>\n",
       "</table>\n",
       "</div>"
      ],
      "text/plain": [
       "             Survived  Pclass  \\\n",
       "PassengerId                     \n",
       "1                   0       3   \n",
       "2                   1       1   \n",
       "3                   1       3   \n",
       "4                   1       1   \n",
       "5                   0       3   \n",
       "\n",
       "                                                          Name     Sex   Age  \\\n",
       "PassengerId                                                                    \n",
       "1                                      Braund, Mr. Owen Harris    male  22.0   \n",
       "2            Cumings, Mrs. John Bradley (Florence Briggs Th...  female  38.0   \n",
       "3                                       Heikkinen, Miss. Laina  female  26.0   \n",
       "4                 Futrelle, Mrs. Jacques Heath (Lily May Peel)  female  35.0   \n",
       "5                                     Allen, Mr. William Henry    male  35.0   \n",
       "\n",
       "             SibSp  Parch            Ticket     Fare Cabin Embarked  \n",
       "PassengerId                                                          \n",
       "1                1      0         A/5 21171   7.2500   NaN        S  \n",
       "2                1      0          PC 17599  71.2833   C85        C  \n",
       "3                0      0  STON/O2. 3101282   7.9250   NaN        S  \n",
       "4                1      0            113803  53.1000  C123        S  \n",
       "5                0      0            373450   8.0500   NaN        S  "
      ]
     },
     "execution_count": 13,
     "metadata": {},
     "output_type": "execute_result"
    }
   ],
   "source": [
    "# train 데이터셋 불러오기\n",
    "df = pd.read_csv(\"./data/train.csv\", index_col=\"PassengerId\")\n",
    "\n",
    "# train 데이터 head\n",
    "df.head()"
   ]
  },
  {
   "cell_type": "code",
   "execution_count": 12,
   "id": "8050f2d8-7c5b-40d1-a906-1d52f658a248",
   "metadata": {},
   "outputs": [
    {
     "data": {
      "text/html": [
       "<div>\n",
       "<style scoped>\n",
       "    .dataframe tbody tr th:only-of-type {\n",
       "        vertical-align: middle;\n",
       "    }\n",
       "\n",
       "    .dataframe tbody tr th {\n",
       "        vertical-align: top;\n",
       "    }\n",
       "\n",
       "    .dataframe thead th {\n",
       "        text-align: right;\n",
       "    }\n",
       "</style>\n",
       "<table border=\"1\" class=\"dataframe\">\n",
       "  <thead>\n",
       "    <tr style=\"text-align: right;\">\n",
       "      <th></th>\n",
       "      <th>Pclass</th>\n",
       "      <th>Name</th>\n",
       "      <th>Sex</th>\n",
       "      <th>Age</th>\n",
       "      <th>SibSp</th>\n",
       "      <th>Parch</th>\n",
       "      <th>Ticket</th>\n",
       "      <th>Fare</th>\n",
       "      <th>Cabin</th>\n",
       "      <th>Embarked</th>\n",
       "    </tr>\n",
       "    <tr>\n",
       "      <th>PassengerId</th>\n",
       "      <th></th>\n",
       "      <th></th>\n",
       "      <th></th>\n",
       "      <th></th>\n",
       "      <th></th>\n",
       "      <th></th>\n",
       "      <th></th>\n",
       "      <th></th>\n",
       "      <th></th>\n",
       "      <th></th>\n",
       "    </tr>\n",
       "  </thead>\n",
       "  <tbody>\n",
       "    <tr>\n",
       "      <th>892</th>\n",
       "      <td>3</td>\n",
       "      <td>Kelly, Mr. James</td>\n",
       "      <td>male</td>\n",
       "      <td>34.5</td>\n",
       "      <td>0</td>\n",
       "      <td>0</td>\n",
       "      <td>330911</td>\n",
       "      <td>7.8292</td>\n",
       "      <td>NaN</td>\n",
       "      <td>Q</td>\n",
       "    </tr>\n",
       "    <tr>\n",
       "      <th>893</th>\n",
       "      <td>3</td>\n",
       "      <td>Wilkes, Mrs. James (Ellen Needs)</td>\n",
       "      <td>female</td>\n",
       "      <td>47.0</td>\n",
       "      <td>1</td>\n",
       "      <td>0</td>\n",
       "      <td>363272</td>\n",
       "      <td>7.0000</td>\n",
       "      <td>NaN</td>\n",
       "      <td>S</td>\n",
       "    </tr>\n",
       "    <tr>\n",
       "      <th>894</th>\n",
       "      <td>2</td>\n",
       "      <td>Myles, Mr. Thomas Francis</td>\n",
       "      <td>male</td>\n",
       "      <td>62.0</td>\n",
       "      <td>0</td>\n",
       "      <td>0</td>\n",
       "      <td>240276</td>\n",
       "      <td>9.6875</td>\n",
       "      <td>NaN</td>\n",
       "      <td>Q</td>\n",
       "    </tr>\n",
       "    <tr>\n",
       "      <th>895</th>\n",
       "      <td>3</td>\n",
       "      <td>Wirz, Mr. Albert</td>\n",
       "      <td>male</td>\n",
       "      <td>27.0</td>\n",
       "      <td>0</td>\n",
       "      <td>0</td>\n",
       "      <td>315154</td>\n",
       "      <td>8.6625</td>\n",
       "      <td>NaN</td>\n",
       "      <td>S</td>\n",
       "    </tr>\n",
       "    <tr>\n",
       "      <th>896</th>\n",
       "      <td>3</td>\n",
       "      <td>Hirvonen, Mrs. Alexander (Helga E Lindqvist)</td>\n",
       "      <td>female</td>\n",
       "      <td>22.0</td>\n",
       "      <td>1</td>\n",
       "      <td>1</td>\n",
       "      <td>3101298</td>\n",
       "      <td>12.2875</td>\n",
       "      <td>NaN</td>\n",
       "      <td>S</td>\n",
       "    </tr>\n",
       "  </tbody>\n",
       "</table>\n",
       "</div>"
      ],
      "text/plain": [
       "             Pclass                                          Name     Sex  \\\n",
       "PassengerId                                                                 \n",
       "892               3                              Kelly, Mr. James    male   \n",
       "893               3              Wilkes, Mrs. James (Ellen Needs)  female   \n",
       "894               2                     Myles, Mr. Thomas Francis    male   \n",
       "895               3                              Wirz, Mr. Albert    male   \n",
       "896               3  Hirvonen, Mrs. Alexander (Helga E Lindqvist)  female   \n",
       "\n",
       "              Age  SibSp  Parch   Ticket     Fare Cabin Embarked  \n",
       "PassengerId                                                       \n",
       "892          34.5      0      0   330911   7.8292   NaN        Q  \n",
       "893          47.0      1      0   363272   7.0000   NaN        S  \n",
       "894          62.0      0      0   240276   9.6875   NaN        Q  \n",
       "895          27.0      0      0   315154   8.6625   NaN        S  \n",
       "896          22.0      1      1  3101298  12.2875   NaN        S  "
      ]
     },
     "execution_count": 12,
     "metadata": {},
     "output_type": "execute_result"
    }
   ],
   "source": [
    "# test 데이터셋 불러오기\n",
    "test_df = pd.read_csv(\"./data/test.csv\", index_col=\"PassengerId\")\n",
    "\n",
    "# test 데이터 head\n",
    "test_df.head()"
   ]
  },
  {
   "cell_type": "markdown",
   "id": "ddf899bd-e60a-44ac-a0aa-6e28fc43d5ce",
   "metadata": {},
   "source": [
    "각 행의 의미  \n",
    "  \n",
    "Survived: 0=사망, 1=생존  \n",
    "Pclass: 1=1등석, 2=2등석, 3=3등  \n",
    "Sex: male=남성, female=여성  \n",
    "Age: 나이  \n",
    "SipSp: 타이타닉 호에 동승한 자매 / 배우자의 수  \n",
    "Parch: 타이타닉 호에 동승한 부모 / 자식의 수  \n",
    "Ticket: 티켓 번호  \n",
    "Fare: 승객요금  \n",
    "Cabin: 방 호수  \n",
    "Embarked: 탑승지, S=사우샘프턴, C=셰르부르, Q=퀸즈타운  "
   ]
  },
  {
   "cell_type": "code",
   "execution_count": 5,
   "id": "2452f2dd-213c-4eca-89ee-4e53f03a87f9",
   "metadata": {},
   "outputs": [
    {
     "data": {
      "text/plain": [
       "(891, 12)"
      ]
     },
     "execution_count": 5,
     "metadata": {},
     "output_type": "execute_result"
    }
   ],
   "source": [
    "# train 데이터 행열\n",
    "df.shape"
   ]
  },
  {
   "cell_type": "code",
   "execution_count": 8,
   "id": "f722f5b0-df14-4f2e-9289-322f8235a912",
   "metadata": {
    "scrolled": true
   },
   "outputs": [
    {
     "data": {
      "text/html": [
       "<div>\n",
       "<style scoped>\n",
       "    .dataframe tbody tr th:only-of-type {\n",
       "        vertical-align: middle;\n",
       "    }\n",
       "\n",
       "    .dataframe tbody tr th {\n",
       "        vertical-align: top;\n",
       "    }\n",
       "\n",
       "    .dataframe thead th {\n",
       "        text-align: right;\n",
       "    }\n",
       "</style>\n",
       "<table border=\"1\" class=\"dataframe\">\n",
       "  <thead>\n",
       "    <tr style=\"text-align: right;\">\n",
       "      <th></th>\n",
       "      <th>Survived</th>\n",
       "      <th>Pclass</th>\n",
       "      <th>Name</th>\n",
       "      <th>Sex</th>\n",
       "      <th>Age</th>\n",
       "      <th>SibSp</th>\n",
       "      <th>Parch</th>\n",
       "      <th>Ticket</th>\n",
       "      <th>Fare</th>\n",
       "      <th>Cabin</th>\n",
       "      <th>Embarked</th>\n",
       "    </tr>\n",
       "    <tr>\n",
       "      <th>PassengerId</th>\n",
       "      <th></th>\n",
       "      <th></th>\n",
       "      <th></th>\n",
       "      <th></th>\n",
       "      <th></th>\n",
       "      <th></th>\n",
       "      <th></th>\n",
       "      <th></th>\n",
       "      <th></th>\n",
       "      <th></th>\n",
       "      <th></th>\n",
       "    </tr>\n",
       "  </thead>\n",
       "  <tbody>\n",
       "    <tr>\n",
       "      <th>887</th>\n",
       "      <td>0</td>\n",
       "      <td>2</td>\n",
       "      <td>Montvila, Rev. Juozas</td>\n",
       "      <td>male</td>\n",
       "      <td>27.0</td>\n",
       "      <td>0</td>\n",
       "      <td>0</td>\n",
       "      <td>211536</td>\n",
       "      <td>13.00</td>\n",
       "      <td>NaN</td>\n",
       "      <td>S</td>\n",
       "    </tr>\n",
       "    <tr>\n",
       "      <th>888</th>\n",
       "      <td>1</td>\n",
       "      <td>1</td>\n",
       "      <td>Graham, Miss. Margaret Edith</td>\n",
       "      <td>female</td>\n",
       "      <td>19.0</td>\n",
       "      <td>0</td>\n",
       "      <td>0</td>\n",
       "      <td>112053</td>\n",
       "      <td>30.00</td>\n",
       "      <td>B42</td>\n",
       "      <td>S</td>\n",
       "    </tr>\n",
       "    <tr>\n",
       "      <th>889</th>\n",
       "      <td>0</td>\n",
       "      <td>3</td>\n",
       "      <td>Johnston, Miss. Catherine Helen \"Carrie\"</td>\n",
       "      <td>female</td>\n",
       "      <td>NaN</td>\n",
       "      <td>1</td>\n",
       "      <td>2</td>\n",
       "      <td>W./C. 6607</td>\n",
       "      <td>23.45</td>\n",
       "      <td>NaN</td>\n",
       "      <td>S</td>\n",
       "    </tr>\n",
       "    <tr>\n",
       "      <th>890</th>\n",
       "      <td>1</td>\n",
       "      <td>1</td>\n",
       "      <td>Behr, Mr. Karl Howell</td>\n",
       "      <td>male</td>\n",
       "      <td>26.0</td>\n",
       "      <td>0</td>\n",
       "      <td>0</td>\n",
       "      <td>111369</td>\n",
       "      <td>30.00</td>\n",
       "      <td>C148</td>\n",
       "      <td>C</td>\n",
       "    </tr>\n",
       "    <tr>\n",
       "      <th>891</th>\n",
       "      <td>0</td>\n",
       "      <td>3</td>\n",
       "      <td>Dooley, Mr. Patrick</td>\n",
       "      <td>male</td>\n",
       "      <td>32.0</td>\n",
       "      <td>0</td>\n",
       "      <td>0</td>\n",
       "      <td>370376</td>\n",
       "      <td>7.75</td>\n",
       "      <td>NaN</td>\n",
       "      <td>Q</td>\n",
       "    </tr>\n",
       "  </tbody>\n",
       "</table>\n",
       "</div>"
      ],
      "text/plain": [
       "             Survived  Pclass                                      Name  \\\n",
       "PassengerId                                                               \n",
       "887                 0       2                     Montvila, Rev. Juozas   \n",
       "888                 1       1              Graham, Miss. Margaret Edith   \n",
       "889                 0       3  Johnston, Miss. Catherine Helen \"Carrie\"   \n",
       "890                 1       1                     Behr, Mr. Karl Howell   \n",
       "891                 0       3                       Dooley, Mr. Patrick   \n",
       "\n",
       "                Sex   Age  SibSp  Parch      Ticket   Fare Cabin Embarked  \n",
       "PassengerId                                                                \n",
       "887            male  27.0      0      0      211536  13.00   NaN        S  \n",
       "888          female  19.0      0      0      112053  30.00   B42        S  \n",
       "889          female   NaN      1      2  W./C. 6607  23.45   NaN        S  \n",
       "890            male  26.0      0      0      111369  30.00  C148        C  \n",
       "891            male  32.0      0      0      370376   7.75   NaN        Q  "
      ]
     },
     "execution_count": 8,
     "metadata": {},
     "output_type": "execute_result"
    }
   ],
   "source": [
    "# train 데이터 tail\n",
    "df.tail()"
   ]
  },
  {
   "cell_type": "markdown",
   "id": "74437bc1-5d42-45a8-9fb9-7f95018d6a4e",
   "metadata": {},
   "source": [
    "### 데이터의 차이  \n",
    "  \n",
    "train 데이터는 test 데이터와 다르게 Sruvived 행이 없다.  \n",
    "train 데이터는 Age, Cabin, Embarked에 결측치가 있다.  \n",
    "test 데이터는 Age, Cabin, Fare에 결측치가 있다.  "
   ]
  },
  {
   "cell_type": "code",
   "execution_count": 14,
   "id": "79a3a982-34e4-4113-a7d2-06fad84df0e6",
   "metadata": {},
   "outputs": [
    {
     "name": "stdout",
     "output_type": "stream",
     "text": [
      "<class 'pandas.core.frame.DataFrame'>\n",
      "Index: 891 entries, 1 to 891\n",
      "Data columns (total 11 columns):\n",
      " #   Column    Non-Null Count  Dtype  \n",
      "---  ------    --------------  -----  \n",
      " 0   Survived  891 non-null    int64  \n",
      " 1   Pclass    891 non-null    int64  \n",
      " 2   Name      891 non-null    object \n",
      " 3   Sex       891 non-null    object \n",
      " 4   Age       714 non-null    float64\n",
      " 5   SibSp     891 non-null    int64  \n",
      " 6   Parch     891 non-null    int64  \n",
      " 7   Ticket    891 non-null    object \n",
      " 8   Fare      891 non-null    float64\n",
      " 9   Cabin     204 non-null    object \n",
      " 10  Embarked  889 non-null    object \n",
      "dtypes: float64(2), int64(4), object(5)\n",
      "memory usage: 83.5+ KB\n"
     ]
    }
   ],
   "source": [
    "# train 데이터 정보 확인\n",
    "df.info()"
   ]
  },
  {
   "cell_type": "code",
   "execution_count": 11,
   "id": "709f623a-4a92-43c5-878f-1d62946b82b2",
   "metadata": {},
   "outputs": [
    {
     "name": "stdout",
     "output_type": "stream",
     "text": [
      "<class 'pandas.core.frame.DataFrame'>\n",
      "Index: 418 entries, 892 to 1309\n",
      "Data columns (total 10 columns):\n",
      " #   Column    Non-Null Count  Dtype  \n",
      "---  ------    --------------  -----  \n",
      " 0   Pclass    418 non-null    int64  \n",
      " 1   Name      418 non-null    object \n",
      " 2   Sex       418 non-null    object \n",
      " 3   Age       332 non-null    float64\n",
      " 4   SibSp     418 non-null    int64  \n",
      " 5   Parch     418 non-null    int64  \n",
      " 6   Ticket    418 non-null    object \n",
      " 7   Fare      417 non-null    float64\n",
      " 8   Cabin     91 non-null     object \n",
      " 9   Embarked  418 non-null    object \n",
      "dtypes: float64(2), int64(3), object(5)\n",
      "memory usage: 35.9+ KB\n"
     ]
    }
   ],
   "source": [
    "# test 데이터 정보 확인\n",
    "test_df.info()"
   ]
  },
  {
   "cell_type": "code",
   "execution_count": 20,
   "id": "c9d28f5c-7363-415c-9a21-20ebf7ebaf33",
   "metadata": {},
   "outputs": [
    {
     "name": "stdout",
     "output_type": "stream",
     "text": [
      "Train 데이터 결측치:\n",
      "Survived      0\n",
      "Pclass        0\n",
      "Name          0\n",
      "Sex           0\n",
      "Age         177\n",
      "SibSp         0\n",
      "Parch         0\n",
      "Ticket        0\n",
      "Fare          0\n",
      "Cabin       687\n",
      "Embarked      2\n",
      "dtype: int64\n",
      "\n",
      "Test 데이터 결측치:\n",
      "Pclass        0\n",
      "Name          0\n",
      "Sex           0\n",
      "Age          86\n",
      "SibSp         0\n",
      "Parch         0\n",
      "Ticket        0\n",
      "Fare          1\n",
      "Cabin       327\n",
      "Embarked      0\n",
      "dtype: int64\n",
      "\n",
      "\n"
     ]
    }
   ],
   "source": [
    "import pandas as pd\n",
    "df = pd.read_csv(\"./data/train.csv\", index_col=\"PassengerId\")\n",
    "test_df = pd.read_csv(\"./data/test.csv\", index_col=\"PassengerId\")\n",
    "\n",
    "# 결측치 확인 함수\n",
    "def missing_values(data):\n",
    "    return data.isnull().sum()\n",
    "\n",
    "print(\"Train 데이터 결측치:\")\n",
    "print(missing_values(df))\n",
    "print(\"\\nTest 데이터 결측치:\")\n",
    "print(missing_values(test_df))\n",
    "print(\"\\n\")"
   ]
  },
  {
   "cell_type": "markdown",
   "id": "79114b7c-73bf-4ce9-9ccf-4f3d6216959f",
   "metadata": {},
   "source": [
    "## 기초 데이터 분석"
   ]
  },
  {
   "cell_type": "code",
   "execution_count": 33,
   "id": "b279c787-4096-4b28-83d8-f68de910a99e",
   "metadata": {},
   "outputs": [
    {
     "data": {
      "image/png": "[encoded data removed]",
      "text/plain": [
       "<Figure size 640x480 with 1 Axes>"
      ]
     },
     "metadata": {},
     "output_type": "display_data"
    }
   ],
   "source": [
    "# 좌석 등급마다 탑승한 승객수\n",
    "df[\"Pclass\"].value_counts().plot(kind=\"bar\", x=\"Pclass\")\n",
    "plt.show()"
   ]
  },
  {
   "cell_type": "code",
   "execution_count": 13,
   "id": "1b171bb5-ade6-4e40-a1eb-e11dd282c932",
   "metadata": {},
   "outputs": [
    {
     "data": {
      "image/png": "[encoded data removed]",
      "text/plain": [
       "<Figure size 640x480 with 1 Axes>"
      ]
     },
     "metadata": {},
     "output_type": "display_data"
    },
    {
     "data": {
      "image/png": "[encoded data removed]",
      "text/plain": [
       "<Figure size 800x600 with 1 Axes>"
      ]
     },
     "metadata": {},
     "output_type": "display_data"
    }
   ],
   "source": [
    "import pandas as pd\n",
    "import matplotlib.pyplot as plt\n",
    "%matplotlib inline\n",
    "import seaborn as sns\n",
    "\n",
    "df = pd.read_csv(\"./data/train.csv\", index_col=\"PassengerId\")\n",
    "\n",
    "# 좌석 등급에 따른 생존자와 사망자\n",
    "survival_by_pclass = df.groupby('Pclass')['Survived'].value_counts(sort=False) \n",
    "survival_by_pclass.plot(kind=\"bar\")\n",
    "plt.show()\n",
    "\n",
    "# 좌석 등급에 따른 생존율을 시각화\n",
    "plt.figure(figsize=(8, 6))\n",
    "sns.barplot(x='Pclass', y='Survived', hue='Pclass', data=df, palette='viridis', legend=False)\n",
    "plt.show()"
   ]
  },
  {
   "cell_type": "markdown",
   "id": "ce7ddc01-9a6d-4a86-89fe-a9739a6ad0a3",
   "metadata": {},
   "source": [
    "train 데이터의 Pclass 카테고리의 개수를 살펴보았습니다. 3등석, 1등석, 1등석순으로 인원이 많다.\n",
    "다음으로 좌석 등급에 따른 생존율을 비교할 수 있는데 1등급 좌석의 경우 생존율이 우세하고 2등급은 서로 비슷하며 3등급은 사망율이 더 높다.  \n",
    "그래프를 통해 생존율을 시각화 했을 때 1등급 좌석과 3등급 좌석은 30%가 넘게 큰 차이가 난다는 걸 알 수 있다.  "
   ]
  },
  {
   "cell_type": "code",
   "execution_count": 43,
   "id": "db5cc4db-d538-4a9c-b63f-b481140f695e",
   "metadata": {
    "scrolled": true
   },
   "outputs": [
    {
     "data": {
      "image/png": "[encoded data removed]",
      "text/plain": [
       "<Figure size 640x480 with 1 Axes>"
      ]
     },
     "metadata": {},
     "output_type": "display_data"
    }
   ],
   "source": [
    "# 성별마다 탑승한 승객수\n",
    "df[\"Sex\"].value_counts().plot(kind=\"bar\", x=\"Sex\")\n",
    "plt.show()"
   ]
  },
  {
   "cell_type": "code",
   "execution_count": 23,
   "id": "3e8dcbf7-9197-41fb-a967-8fd4d2d5062c",
   "metadata": {},
   "outputs": [
    {
     "data": {
      "image/png": "[encoded data removed]",
      "text/plain": [
       "<Figure size 640x480 with 1 Axes>"
      ]
     },
     "metadata": {},
     "output_type": "display_data"
    },
    {
     "data": {
      "image/png": "[encoded data removed]",
      "text/plain": [
       "<Figure size 800x600 with 1 Axes>"
      ]
     },
     "metadata": {},
     "output_type": "display_data"
    }
   ],
   "source": [
    "import pandas as pd\n",
    "import matplotlib.pyplot as plt\n",
    "%matplotlib inline\n",
    "import seaborn as sns\n",
    "\n",
    "df = pd.read_csv(\"./data/train.csv\", index_col=\"PassengerId\")\n",
    "\n",
    "# 성별에 따른 생존자와 사망자\n",
    "survival_by_sex = df.groupby('Sex')['Survived'].value_counts(sort=False) \n",
    "\n",
    "survival_by_sex.plot(kind=\"bar\")\n",
    "plt.show()\n",
    "\n",
    "# 성별에 따른 생존율을 시각화\n",
    "plt.figure(figsize=(8, 6))\n",
    "sns.barplot(x='Sex', y='Survived', hue='Sex', data=df, palette='viridis', legend=False)\n",
    "\n",
    "plt.show()"
   ]
  },
  {
   "cell_type": "markdown",
   "id": "087110a2-889e-4671-899c-6def49441450",
   "metadata": {},
   "source": [
    "train 데이터의 Sex 카테고리의 개수를 살펴보았을 때 남성이 여성보다 많다.  \n",
    "다음으로 성별에 따른 생존율을 비교할 수 있는데 여성에 비해 남성은 많은 인원이 사망했다.  \n",
    "그래프를 통해 생존율을 시각화 했을 때 여성이 훨씬 높은 생존율을 보인다.  "
   ]
  },
  {
   "cell_type": "code",
   "execution_count": 9,
   "id": "cc4a2361-7c8c-4f2b-a7b5-4c317e412947",
   "metadata": {},
   "outputs": [
    {
     "data": {
      "image/png": "[encoded data removed]",
      "text/plain": [
       "<Figure size 640x480 with 1 Axes>"
      ]
     },
     "metadata": {},
     "output_type": "display_data"
    }
   ],
   "source": [
    "# 나이마다 탑승한 승객수\n",
    "df['AgeGroup'] = pd.cut(df['Age'], bins=[0, 5, 14, 18, 30, 60, 100], labels=['Baby', 'Child', 'Teenager', 'Adult', 'OldAdult', 'Old']).value_counts().plot(kind=\"bar\", x=\"Age\")\n",
    "plt.show()"
   ]
  },
  {
   "cell_type": "code",
   "execution_count": 17,
   "id": "93c599f9-bac8-4fc7-b6f5-0c8b0d3eca0d",
   "metadata": {},
   "outputs": [
    {
     "data": {
      "image/png": "[encoded data removed]",
      "text/plain": [
       "<Figure size 640x480 with 1 Axes>"
      ]
     },
     "metadata": {},
     "output_type": "display_data"
    },
    {
     "name": "stdout",
     "output_type": "stream",
     "text": [
      "Survival rate by Age Group:\n",
      "AgeGroup\n",
      "Baby        0.704545\n",
      "Child       0.424242\n",
      "Teenager    0.403226\n",
      "Adult       0.355556\n",
      "OldAdult    0.420495\n",
      "Old         0.227273\n",
      "Name: Survived, dtype: float64\n",
      "\n",
      "\n"
     ]
    },
    {
     "data": {
      "image/png": "[encoded data removed]",
      "text/plain": [
       "<Figure size 800x600 with 1 Axes>"
      ]
     },
     "metadata": {},
     "output_type": "display_data"
    }
   ],
   "source": [
    "import pandas as pd\n",
    "import matplotlib.pyplot as plt\n",
    "%matplotlib inline\n",
    "import seaborn as sns\n",
    "\n",
    "df = pd.read_csv(\"./data/train.csv\", index_col=\"PassengerId\")\n",
    "\n",
    "# 나이에 따른 생존자와 사망자\n",
    "df['AgeGroup'] = pd.cut(df['Age'], bins=[0, 5, 14, 18, 30, 60, 100], labels=['Baby', 'Child', 'Teenager', 'Adult', 'OldAdult', 'Old'])\n",
    "survival_by_age_group = df.groupby('AgeGroup', observed=False)['Survived'].value_counts(sort=False) \n",
    "\n",
    "survival_by_age_group.plot(kind=\"bar\")\n",
    "plt.show()\n",
    "\n",
    "df['AgeGroup'] = pd.cut(df['Age'], bins=[0, 5, 14, 18, 30, 60, 100], labels=['Baby', 'Child', 'Teenager', 'Adult', 'OldAdult', 'Old'])\n",
    "survival_by_age_group = df.groupby('AgeGroup', observed=False)['Survived'].mean()\n",
    "print(\"Survival rate by Age Group:\")\n",
    "print(survival_by_age_group)\n",
    "print(\"\\n\")\n",
    "\n",
    "# 연령대마다 생존율\n",
    "plt.figure(figsize=(8, 6))\n",
    "sns.barplot(x='AgeGroup', y='Survived', data=df, errorbar=None, order=['Baby', 'Child', 'Teenager', 'Adult', 'OldAdult', 'Old'], legend=False)\n",
    "plt.show()"
   ]
  },
  {
   "cell_type": "markdown",
   "id": "7891be91-dad0-4a15-b429-af11395cf7c0",
   "metadata": {},
   "source": [
    "train 데이터의 Age 카테고리를 먼저 나이대 별로 Group을 만들었다. 18, 30대 성년과 30, 60대 중장년 탑승객이 많다는 것을 알 수 있다.  \n",
    "다음으로 나이에 따른 생존율을 비교할 수 있는데 아기 그룹을 제외한 모든 그룹에서 사망자가 더 많은 것을 알 수 있다.  \n",
    "그래프를 통해 생존율을 시각화 했을 때 역시 아기 그룹을 제외하면 모두 낮은 생존율 확인이 가능하다.  "
   ]
  },
  {
   "cell_type": "code",
   "execution_count": 5,
   "id": "5f359784-7431-4cb2-bc86-d1bd341b9900",
   "metadata": {},
   "outputs": [
    {
     "data": {
      "image/png": "[encoded data removed]",
      "text/plain": [
       "<Figure size 1000x600 with 1 Axes>"
      ]
     },
     "metadata": {},
     "output_type": "display_data"
    },
    {
     "data": {
      "image/png": "[encoded data removed]",
      "text/plain": [
       "<Figure size 1000x600 with 1 Axes>"
      ]
     },
     "metadata": {},
     "output_type": "display_data"
    }
   ],
   "source": [
    "import pandas as pd\n",
    "import matplotlib.pyplot as plt\n",
    "import seaborn as sns\n",
    "\n",
    "df = pd.read_csv(\"./data/train.csv\", index_col=\"PassengerId\")\n",
    "\n",
    "# 고객 요금 분석\n",
    "plt.figure(figsize=(10, 6))\n",
    "sns.histplot(df['Fare'], kde=True, bins=30, color='blue')\n",
    "plt.title(\"Distribution of Passenger Fares\")\n",
    "plt.xlabel(\"Fare\")\n",
    "plt.ylabel(\"Frequency\")\n",
    "plt.show()\n",
    "\n",
    "# 좌석 등급별 요금 분포\n",
    "plt.figure(figsize=(10, 6))\n",
    "sns.boxplot(x='Pclass', y='Fare', hue=\"Pclass\", data=df, palette='coolwarm', showfliers=False)\n",
    "plt.yscale('log')  # 로그 스케일로 변환하여 데이터 분포를 명확히 표현\n",
    "plt.title(\"Fare Distribution by Passenger Class\", fontsize=14)\n",
    "plt.xlabel(\"Passenger Class\", fontsize=12)\n",
    "plt.ylabel(\"Fare (Log Scale)\", fontsize=12)\n",
    "plt.xticks(fontsize=10)\n",
    "plt.yticks(fontsize=10)\n",
    "plt.grid(axis='y', linestyle='--', alpha=0.7)\n",
    "plt.show()"
   ]
  },
  {
   "cell_type": "code",
   "execution_count": 14,
   "id": "5202e2c9-12e6-46be-808f-0a1e6ad84211",
   "metadata": {},
   "outputs": [
    {
     "data": {
      "image/png": "[encoded data removed]",
      "text/plain": [
       "<Figure size 1000x600 with 1 Axes>"
      ]
     },
     "metadata": {},
     "output_type": "display_data"
    }
   ],
   "source": [
    "import pandas as pd\n",
    "import matplotlib.pyplot as plt\n",
    "import seaborn as sns\n",
    "\n",
    "df = pd.read_csv(\"./data/train.csv\", index_col=\"PassengerId\")\n",
    "df['FareGroup'] = pd.cut(df['Fare'], bins=[0, 7.91, 14.454, 31, 512], labels=['Low', 'Mid', 'High', 'Very High'])\n",
    "\n",
    "# 고객 요금 구간 생성 및 생존율 분석\n",
    "plt.figure(figsize=(10, 6))\n",
    "sns.barplot(x='FareGroup', y='Survived', hue=\"FareGroup\", data=df,  palette='coolwarm', errorbar=None)\n",
    "plt.title(\"Survival Rate by Fare Group\", fontsize=14)\n",
    "plt.xlabel(\"Fare Group\", fontsize=12)\n",
    "plt.ylabel(\"Survival Rate\", fontsize=12)\n",
    "plt.xticks(fontsize=10)\n",
    "plt.yticks(fontsize=10)\n",
    "plt.ylim(0, 1)  # 생존율 범위를 0~1로 제한\n",
    "plt.grid(axis='y', linestyle='--', alpha=0.7)\n",
    "\n",
    "plt.show()"
   ]
  },
  {
   "cell_type": "code",
   "execution_count": 35,
   "id": "e81f8507-9fac-4823-943d-048c4901589b",
   "metadata": {
    "scrolled": true
   },
   "outputs": [
    {
     "name": "stdout",
     "output_type": "stream",
     "text": [
      "고객 요금과 생존율 관계 분석 결과:\n",
      "FareGroup\n",
      "Low          0.206731\n",
      "Mid          0.308756\n",
      "High         0.445415\n",
      "Very High    0.575342\n",
      "Name: Survived, dtype: float64\n",
      "\n",
      "\n"
     ]
    }
   ],
   "source": [
    "# 고객 요금 분석 요약\n",
    "print(\"고객 요금과 생존율 관계 분석 결과:\")\n",
    "print(df.groupby('FareGroup', observed=False)['Survived'].mean())\n",
    "print(\"\\n\")"
   ]
  },
  {
   "cell_type": "markdown",
   "id": "a50c1c6f-7837-49a0-9f35-fef074e29b2a",
   "metadata": {},
   "source": [
    "고객 요금을 분석했을 때 고객 요금을 많이 낸 인원이 적다는 것을 확인할 수 있다."
   ]
  },
  {
   "cell_type": "markdown",
   "id": "3c67e0e8-1e5c-464b-98c2-50b1bde029d0",
   "metadata": {},
   "source": [
    "## 모델 학습 및 예측"
   ]
  },
  {
   "cell_type": "markdown",
   "id": "eb2ce710-1145-4e9b-9fe5-b138a4bd11d5",
   "metadata": {},
   "source": [
    "### 1차 예측\n",
    "\n",
    "결측치를 처리하는 과정에서 나이는 데이터가 왜곡된 경우에도 극단값의 영향을 받지 않는 중앙값으로 선택했다.   \n",
    "고객 요금의 경우 결측값이 적고, 높은 요금의 빈도가 낮은 것으로 판단해 0으로 처리했다.  "
   ]
  },
  {
   "cell_type": "code",
   "execution_count": 44,
   "id": "f9032b1e-74fa-4fa5-b447-5f7c49b9ce89",
   "metadata": {},
   "outputs": [
    {
     "name": "stdout",
     "output_type": "stream",
     "text": [
      "Validation Accuracy: 0.83\n",
      "              precision    recall  f1-score   support\n",
      "\n",
      "           0       0.86      0.85      0.85       105\n",
      "           1       0.79      0.80      0.79        74\n",
      "\n",
      "    accuracy                           0.83       179\n",
      "   macro avg       0.82      0.82      0.82       179\n",
      "weighted avg       0.83      0.83      0.83       179\n",
      "\n"
     ]
    }
   ],
   "source": [
    "import pandas as pd\n",
    "import numpy as np\n",
    "from sklearn.ensemble import RandomForestClassifier\n",
    "from sklearn.model_selection import train_test_split\n",
    "from sklearn.metrics import accuracy_score\n",
    "\n",
    "# Train 데이터 로드 및 전처리\n",
    "df = pd.read_csv(\"./data/train.csv\", index_col=\"PassengerId\")\n",
    "test_df = pd.read_csv(\"./data/test.csv\", index_col=\"PassengerId\")\n",
    "\n",
    "# 범주형 변수 숫자로 변환\n",
    "for dataset in [df, test_df]:\n",
    "    dataset['Sex'] = dataset['Sex'].map({'male': 0, 'female': 1})\n",
    "    dataset['Embarked'] = dataset['Embarked'].map({'S': 0, 'C': 1, 'Q': 2})\n",
    "    dataset['FareGroup'] = pd.cut(dataset['Fare'], bins=[0, 7.91, 14.454, 31, 512], labels=['Low', 'Mid', 'High', 'Very High'])\n",
    "    dataset['FareGroup'] = dataset['FareGroup'].map({'Low': 0, 'Mid': 1, 'High': 2, 'Very High': 3})\n",
    "\n",
    "    # 결측치 처리\n",
    "    dataset['Age'] = dataset['Age'].fillna(dataset['Age'].median())\n",
    "    dataset['Fare'] = dataset['Fare'].fillna(0)\n",
    "\n",
    "# 학습에 사용할 특성 정의\n",
    "features = ['Pclass', 'Sex', 'Age', 'SibSp', 'Parch', 'Fare', 'Embarked']\n",
    "\n",
    "X = df[features]  # df 데이터 특성\n",
    "y = df['Survived']  # df 데이터 타겟\n",
    "\n",
    "# Train/Validation 분할\n",
    "x_train, x_val, y_train, y_val = train_test_split(X, y, test_size=0.2, random_state=42)\n",
    "\n",
    "# 모델 정의 및 학습\n",
    "model = RandomForestClassifier(random_state=42, class_weight={0: 1, 1: 2})  # 생존 클래스에 2배 가중치\n",
    "model.fit(x_train, y_train)\n",
    "\n",
    "# 평가\n",
    "y_val_pred = model.predict(x_val) \n",
    "print(f\"Validation Accuracy: {accuracy_score(y_val, y_val_pred):.2f}\")\n",
    "\n",
    "# Test 데이터 예측\n",
    "x_test = test_df[features]\n",
    "test_predictions = model.predict(x_test)\n",
    "\n",
    "# classification_report 평가\n",
    "from sklearn.metrics import classification_report\n",
    "print(classification_report(y_val, y_val_pred))"
   ]
  },
  {
   "cell_type": "markdown",
   "id": "e8b6f620-ea62-4ff5-bfc8-c67a5a204a70",
   "metadata": {},
   "source": [
    "### 2차 예측\n",
    "\n",
    "특성에 대한 가중치를 적용했다. 구명보트를 타는 데 있어 사회적 배려로 여성과 아기의 생존율이 높다는 것을 깨달았고 이에 가중치를 둬야겠다고 생각했다.  \n",
    "고객 요금에 대한 가중치는 감소시켰다. 높은 요금을 낸 승객은 1등석일 가능성이 높으며, 1등석 승객은 구명보트를 사용할 확률이 높다. 다만, 요금 자체가 모든 경우에 직접적인 생존율의 원인이 되지 않을 수 있고 1, 2등석에 탔다고 해도 고객 요금을 압도적으로 많이 낸 건 아닌 것 같아 가중치를 감소시켰다.  "
   ]
  },
  {
   "cell_type": "code",
   "execution_count": 43,
   "id": "efec1475-1851-4b7b-9720-9c77e333cfc1",
   "metadata": {},
   "outputs": [
    {
     "name": "stdout",
     "output_type": "stream",
     "text": [
      "Validation Accuracy: 0.83\n",
      "              precision    recall  f1-score   support\n",
      "\n",
      "           0       0.86      0.85      0.85       105\n",
      "           1       0.79      0.80      0.79        74\n",
      "\n",
      "    accuracy                           0.83       179\n",
      "   macro avg       0.82      0.82      0.82       179\n",
      "weighted avg       0.83      0.83      0.83       179\n",
      "\n"
     ]
    }
   ],
   "source": [
    "import pandas as pd\n",
    "import numpy as np\n",
    "from sklearn.ensemble import RandomForestClassifier\n",
    "from sklearn.model_selection import train_test_split\n",
    "from sklearn.metrics import accuracy_score\n",
    "\n",
    "# Train 데이터 로드 및 전처리\n",
    "df = pd.read_csv(\"./data/train.csv\", index_col=\"PassengerId\")\n",
    "test_df = pd.read_csv(\"./data/test.csv\", index_col=\"PassengerId\")\n",
    "\n",
    "# 범주형 변수 숫자로 변환\n",
    "for dataset in [df, test_df]:\n",
    "    dataset['Sex'] = dataset['Sex'].map({'male': 0, 'female': 1})\n",
    "    dataset['Embarked'] = dataset['Embarked'].map({'S': 0, 'C': 1, 'Q': 2})\n",
    "    dataset['FareGroup'] = pd.cut(dataset['Fare'], bins=[0, 7.91, 14.454, 31, 512], labels=['Low', 'Mid', 'High', 'Very High'])\n",
    "    dataset['FareGroup'] = dataset['FareGroup'].map({'Low': 0, 'Mid': 1, 'High': 2, 'Very High': 3})\n",
    "\n",
    "    # 결측치 처리\n",
    "    dataset['Age'] = dataset['Age'].fillna(dataset['Age'].median())\n",
    "    dataset['Fare'] = dataset['Fare'].fillna(0)\n",
    "\n",
    "# 학습에 사용할 특성 정의\n",
    "features = ['Pclass', 'Sex', 'Age', 'SibSp', 'Parch', 'Fare', 'Embarked']\n",
    "\n",
    "X = df[features]  # df 데이터 특성\n",
    "y = df['Survived']  # df 데이터 타겟\n",
    "\n",
    "# 특성 가중치 적용\n",
    "df['Age'] *= 1.5  # 나이 가중치 증가\n",
    "df['Sex'] *= 2.0  # 성별 가중치 증가\n",
    "df['Fare'] = np.log1p(df['Fare'])  # 요금 로그 변환으로 가중치 감소\n",
    "\n",
    "# 동일 전처리 test_df에도 적용\n",
    "test_df['Age'] *= 1.5\n",
    "test_df['Sex'] *= 2.0\n",
    "test_df['Fare'] = np.log1p(test_df['Fare'])\n",
    "\n",
    "# Train/Validation 분할\n",
    "x_train, x_val, y_train, y_val = train_test_split(X, y, test_size=0.2, random_state=42)\n",
    "\n",
    "# 모델 정의 및 학습\n",
    "model = RandomForestClassifier(random_state=42, class_weight={0: 1, 1: 2})  # 생존 클래스에 2배 가중치\n",
    "model.fit(x_train, y_train)\n",
    "\n",
    "# 평가\n",
    "y_val_pred = model.predict(x_val) \n",
    "print(f\"Validation Accuracy: {accuracy_score(y_val, y_val_pred):.2f}\")\n",
    "\n",
    "# Test 데이터 예측\n",
    "x_test = test_df[features]\n",
    "test_predictions = model.predict(x_test)\n",
    "\n",
    "# classification_report 평가\n",
    "from sklearn.metrics import classification_report\n",
    "print(classification_report(y_val, y_val_pred))"
   ]
  },
  {
   "cell_type": "markdown",
   "id": "1f876f3b-8bc3-465d-bdfa-573d4260dda4",
   "metadata": {},
   "source": [
    "### 3차 예측\n",
    "\n",
    "결측치를 처리하는 과정에서 만약 좌석 등급에 따라 승객 요금이 다르다면, 결측값을 단순히 0으로 처리하는 것이 데이터의 잠재적 정보를 왜곡할 위험이 있다 생각했다. 때문에 승객 요금은 좌석 등급이나 승선 항구에 대한 정보를 활용할 수도 있다고 생각해 좌석 등급의 중앙값을 사용했다.\n",
    "GridSearchCV를 통해 최적의 파라미터를 얻기 위한 작업을 했다."
   ]
  },
  {
   "cell_type": "code",
   "execution_count": 42,
   "id": "898510da-47af-46fb-84ef-22e0a67a3fe9",
   "metadata": {},
   "outputs": [
    {
     "name": "stdout",
     "output_type": "stream",
     "text": [
      "{'max_depth': 10, 'min_samples_split': 10, 'n_estimators': 200}\n",
      "Validation Accuracy: 0.72\n",
      "              precision    recall  f1-score   support\n",
      "\n",
      "           0       0.76      0.77      0.76       105\n",
      "           1       0.67      0.65      0.66        74\n",
      "\n",
      "    accuracy                           0.72       179\n",
      "   macro avg       0.71      0.71      0.71       179\n",
      "weighted avg       0.72      0.72      0.72       179\n",
      "\n"
     ]
    }
   ],
   "source": [
    "from sklearn.model_selection import GridSearchCV\n",
    "param_grid = {\n",
    "    'n_estimators': [50, 100, 200],\n",
    "    'max_depth': [None, 10, 20],\n",
    "    'min_samples_split': [2, 5, 10]\n",
    "}\n",
    "grid_search = GridSearchCV(RandomForestClassifier(random_state=42), param_grid, cv=3, scoring='accuracy')\n",
    "grid_search.fit(x_train, y_train)\n",
    "print(grid_search.best_params_)\n",
    "\n",
    "import pandas as pd\n",
    "import numpy as np\n",
    "from sklearn.ensemble import RandomForestClassifier\n",
    "from sklearn.model_selection import train_test_split\n",
    "from sklearn.metrics import accuracy_score\n",
    "\n",
    "# Train 데이터 로드 및 전처리\n",
    "df = pd.read_csv(\"./data/train.csv\", index_col=\"PassengerId\")\n",
    "test_df = pd.read_csv(\"./data/test.csv\", index_col=\"PassengerId\")\n",
    "\n",
    "# 범주형 변수 숫자로 변환\n",
    "for dataset in [df, test_df]:\n",
    "    dataset['Sex'] = dataset['Sex'].map({'male': 0, 'female': 1})\n",
    "    dataset['Embarked'] = dataset['Embarked'].map({'S': 0, 'C': 1, 'Q': 2})\n",
    "    dataset['FareGroup'] = pd.cut(dataset['Fare'], bins=[0, 7.91, 14.454, 31, 512], labels=['Low', 'Mid', 'High', 'Very High'])\n",
    "    dataset['FareGroup'] = dataset['FareGroup'].map({'Low': 0, 'Mid': 1, 'High': 2, 'Very High': 3})\n",
    "\n",
    "# 결측치 처리 함수\n",
    "def preprocess_data(dataset):\n",
    "    # 범주형 변수 변환\n",
    "    dataset['Sex'] = dataset['Sex'].map({'male': 0, 'female': 1})\n",
    "    dataset['Embarked'] = dataset['Embarked'].map({'S': 0, 'C': 1, 'Q': 2})\n",
    "    dataset['FareGroup'] = pd.cut(dataset['Fare'], bins=[0, 7.91, 14.454, 31, 512], labels=['Low', 'Mid', 'High', 'Very High'])\n",
    "    dataset['FareGroup'] = dataset['FareGroup'].map({'Low': 0, 'Mid': 1, 'High': 2, 'Very High': 3})\n",
    "\n",
    "    # 결측치 처리\n",
    "    dataset['Age'] = dataset['Age'].fillna(dataset['Age'].median())\n",
    "    dataset['Fare'] = dataset.groupby('Pclass')['Fare'].transform(lambda x: x.fillna(x.median()))\n",
    "    return dataset\n",
    "\n",
    "# 데이터 전처리\n",
    "df = preprocess_data(df)\n",
    "test_df = preprocess_data(test_df)\n",
    "\n",
    "# 가중치 적용\n",
    "X = df[features].copy()\n",
    "X['Age'] *= 1.5\n",
    "X['Sex'] *= 2.0\n",
    "X['Fare'] = np.log1p(X['Fare'])\n",
    "\n",
    "# Test 데이터도 동일한 방식으로 전처리\n",
    "X_test = test_df[features].copy()\n",
    "X_test['Age'] *= 1.5\n",
    "X_test['Sex'] *= 2.0\n",
    "X_test['Fare'] = np.log1p(X_test['Fare'])\n",
    "\n",
    "# Train/Validation 분할\n",
    "x_train, x_val, y_train, y_val = train_test_split(X, y, test_size=0.2, random_state=42)\n",
    "\n",
    "# 모델 학습 및 평가\n",
    "model = RandomForestClassifier(random_state=42, class_weight={0: 1, 1: 2})\n",
    "model.fit(x_train, y_train)\n",
    "y_val_pred = model.predict(x_val)\n",
    "print(f\"Validation Accuracy: {accuracy_score(y_val, y_val_pred):.2f}\")\n",
    "\n",
    "# Test 데이터 예측\n",
    "test_predictions = model.predict(X_test)\n",
    "\n",
    "# classification_report 평가\n",
    "from sklearn.metrics import classification_report\n",
    "print(classification_report(y_val, y_val_pred))"
   ]
  },
  {
   "cell_type": "markdown",
   "id": "24d5fcf8-fa16-480b-98e2-5dafce52f89a",
   "metadata": {},
   "source": [
    "### 4차 예측\n",
    "\n",
    "GridSearchCV를 통해 복잡도 제어, 성능 최적화, 모델 일반화를 했다.  \n",
    "과적합 방지에 중점을 둔 max_depth, n_estimators이 적용되며 성능이 감소했을 가능성도 있었지만 Fare 가중치 처리 방식, 로그 변환 등이 성능 저하의 원인이 된 것 같아 제거했다.  "
   ]
  },
  {
   "cell_type": "code",
   "execution_count": 52,
   "id": "1a60c6dc-3ae5-4756-91b4-eec24241076a",
   "metadata": {},
   "outputs": [
    {
     "name": "stdout",
     "output_type": "stream",
     "text": [
      "Validation Accuracy: 0.83\n",
      "              precision    recall  f1-score   support\n",
      "\n",
      "           0       0.83      0.90      0.86       105\n",
      "           1       0.84      0.73      0.78        74\n",
      "\n",
      "    accuracy                           0.83       179\n",
      "   macro avg       0.83      0.82      0.82       179\n",
      "weighted avg       0.83      0.83      0.83       179\n",
      "\n"
     ]
    }
   ],
   "source": [
    "# 최적의 하이퍼파라미터로 모델 생성\n",
    "best_model = RandomForestClassifier(\n",
    "    random_state=42,\n",
    "    n_estimators=best_params['n_estimators'],\n",
    "    max_depth=best_params['max_depth'],\n",
    "    min_samples_split=best_params['min_samples_split']\n",
    ")\n",
    "\n",
    "# 모델 학습\n",
    "best_model.fit(x_train, y_train) \n",
    "\n",
    "# 평가\n",
    "y_val_pred = best_model.predict(x_val) \n",
    "print(f\"Validation Accuracy: {accuracy_score(y_val, y_val_pred):.2f}\")\n",
    "\n",
    "# Test 데이터 예측\n",
    "x_test = test_df[features]\n",
    "test_predictions = best_model.predict(x_test)\n",
    "\n",
    "# classification_report 평가\n",
    "from sklearn.metrics import classification_report\n",
    "print(classification_report(y_val, y_val_pred))"
   ]
  },
  {
   "cell_type": "markdown",
   "id": "2fd93bf8-0699-4876-a951-efb1fbebd146",
   "metadata": {
    "jp-MarkdownHeadingCollapsed": true
   },
   "source": [
    "사망자를 잘 식별하는 데 강점이 있어 실제 사망자를 놓칠 확률이 낮다. 반면 클래스 1 생존 Recall(0.73)으로 낮아, 생존자를 놓칠 가능성이 있다.\n",
    "특히 생존자를 사망으로 잘못 예측하는 경우가 더 많음. 83%의 Accuracy로 전체 데이터에서 올바르게 예측한 비율은 낮지 않다."
   ]
  }
 ],
 "metadata": {
  "kernelspec": {
   "display_name": "Python 3 (ipykernel)",
   "language": "python",
   "name": "python3"
  },
  "language_info": {
   "codemirror_mode": {
    "name": "ipython",
    "version": 3
   },
   "file_extension": ".py",
   "mimetype": "text/x-python",
   "name": "python",
   "nbconvert_exporter": "python",
   "pygments_lexer": "ipython3",
   "version": "3.12.2"
  }
 },
 "nbformat": 4,
 "nbformat_minor": 5
}
